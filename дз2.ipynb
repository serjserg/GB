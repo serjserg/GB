{
 "cells": [
  {
   "cell_type": "code",
   "execution_count": 266,
   "metadata": {},
   "outputs": [],
   "source": [
    "import numpy as np\n",
    "import matplotlib.pyplot as plt"
   ]
  },
  {
   "cell_type": "code",
   "execution_count": 267,
   "metadata": {},
   "outputs": [],
   "source": [
    "X, y, w_true = sklearn.datasets.make_regression(n_features=5, n_samples=50, coef=True, noise=0.2)\n"
   ]
  },
  {
   "cell_type": "code",
   "execution_count": 268,
   "metadata": {},
   "outputs": [],
   "source": [
    "def mserror(X, w, y_pred):\n",
    "    y_pred = X.dot(w)\n",
    "    return (sum((y - y_pred)**2)) / len(y)"
   ]
  },
  {
   "cell_type": "code",
   "execution_count": 269,
   "metadata": {},
   "outputs": [],
   "source": [
    "def gradientDescent(l1=0, l2=0):\n",
    "    n_features = X.shape[1]\n",
    "    count = len(X)\n",
    "    \n",
    "    # возьмем нулевые начальные веса\n",
    "    w = np.zeros(n_features)\n",
    "\n",
    "    # список значений ошибок после каждой итерации\n",
    "    errors = []\n",
    "\n",
    "    max_iter = 1e4\n",
    "\n",
    "    # критерий сходимости (разница весов, при которой алгоритм останавливается)\n",
    "    min_weight_dist = 1e-8\n",
    "    \n",
    "    # шаг градиентного спуска\n",
    "    eta = 0.5\n",
    "    \n",
    "    # зададим начальную разницу весов большим числом\n",
    "    weight_dist = np.inf\n",
    "\n",
    "    \n",
    "    \n",
    "    # счетчик итераций\n",
    "    iter_num = 0\n",
    "\n",
    "    # ход градиентного спуска\n",
    "    while weight_dist > min_weight_dist and iter_num < max_iter:\n",
    "        iter_num += 1\n",
    "        \n",
    "        new_w = w - (2 * eta * np.dot(X.T, (np.dot(X, w) - y)) / count + l1 * 2 * np.abs(w) + l2 * 2 * w**2)\n",
    "        weight_dist = np.linalg.norm(new_w - w, ord=2)\n",
    "\n",
    "        errors.append(mserror(X, new_w, np.dot(X, new_w)))\n",
    "        w = new_w\n",
    "    \n",
    "#     print(w)\n",
    "#     print(w_true)\n",
    "    \n",
    "    return errors"
   ]
  },
  {
   "cell_type": "code",
   "execution_count": 270,
   "metadata": {},
   "outputs": [],
   "source": [
    "def stochasticGradientDescent(l1=0, l2=0):\n",
    "    n_features = X.shape[1]\n",
    "    count = len(X)\n",
    "    \n",
    "    # возьмем нулевые начальные веса\n",
    "    w = np.zeros(n_features)\n",
    "\n",
    "    # список значений ошибок после каждой итерации\n",
    "    errors = []\n",
    "\n",
    "    max_iter = 1e4\n",
    "\n",
    "    # критерий сходимости (разница весов, при которой алгоритм останавливается)\n",
    "    min_weight_dist = 1e-8\n",
    "    \n",
    "    # шаг градиентного спуска\n",
    "    eta = 0.5\n",
    "    \n",
    "    # зададим начальную разницу весов большим числом\n",
    "    weight_dist = np.inf\n",
    "\n",
    "    # счетчик итераций\n",
    "    iter_num = 0\n",
    "\n",
    "    # ход градиентного спуска\n",
    "    while weight_dist > min_weight_dist and iter_num < max_iter:\n",
    "        iter_num += 1\n",
    "        \n",
    "        train_ind = np.random.randint(count)\n",
    "        \n",
    "        new_w = w - (2 * eta * np.dot(X[train_ind].T, (np.dot(X[train_ind], w) - y[train_ind])) / count + l1 * 2 * np.abs(w) + l2 * 2 * w**2) \n",
    "        weight_dist = np.linalg.norm(new_w - w, ord=2)\n",
    "\n",
    "        errors.append(mserror(X, new_w, np.dot(X, new_w)))\n",
    "        w = new_w\n",
    "    \n",
    "#     print(w)\n",
    "#     print(w_true)\n",
    "    \n",
    "    return errors"
   ]
  },
  {
   "cell_type": "code",
   "execution_count": 271,
   "metadata": {},
   "outputs": [],
   "source": [
    "gd_errors  = gradientDescent()\n",
    "sgd_errors = stochasticGradientDescent()\n",
    "\n",
    "gd_errorsl1  = gradientDescent(l1=0.01)\n",
    "sgd_errorsl1 = stochasticGradientDescent(l1=0.01)\n",
    "\n",
    "# ВЫВАЛИВАЕТСЯ С ОШИБКОЙ, ТАК И НЕ ПОНЯЛ, КАК ПОБОРОТЬ\n",
    "# gd_errorsl2  = gradientDescent(l2=0.01)\n",
    "# sgd_errorsl2 = stochasticGradientDescent(l2=0.01)"
   ]
  },
  {
   "cell_type": "code",
   "execution_count": 272,
   "metadata": {},
   "outputs": [
    {
     "data": {
      "text/plain": [
       "Text(0, 0.5, 'MSE')"
      ]
     },
     "execution_count": 272,
     "metadata": {},
     "output_type": "execute_result"
    },
    {
     "data": {
      "image/png": "[encoded data removed]",
      "text/plain": [
       "<Figure size 432x288 with 1 Axes>"
      ]
     },
     "metadata": {
      "needs_background": "light"
     },
     "output_type": "display_data"
    }
   ],
   "source": [
    "# Визуализируем изменение функционала ошибки\n",
    "plt.plot(range(len(gd_errors)), gd_errors)\n",
    "plt.plot(range(len(sgd_errors)), sgd_errors)\n",
    "\n",
    "plt.title('MSE')\n",
    "plt.xlabel('Iteration number')\n",
    "plt.ylabel('MSE')"
   ]
  },
  {
   "cell_type": "code",
   "execution_count": 273,
   "metadata": {},
   "outputs": [
    {
     "data": {
      "text/plain": [
       "Text(0, 0.5, 'MSE')"
      ]
     },
     "execution_count": 273,
     "metadata": {},
     "output_type": "execute_result"
    },
    {
     "data": {
      "image/png": "[encoded data removed]",
      "text/plain": [
       "<Figure size 432x288 with 1 Axes>"
      ]
     },
     "metadata": {
      "needs_background": "light"
     },
     "output_type": "display_data"
    }
   ],
   "source": [
    "plt.plot(range(len(gd_errorsl1)), gd_errorsl1)\n",
    "plt.plot(range(len(sgd_errorsl1)), sgd_errorsl1)\n",
    "\n",
    "plt.title('MSE')\n",
    "plt.xlabel('Iteration number')\n",
    "plt.ylabel('MSE')"
   ]
  },
  {
   "cell_type": "code",
   "execution_count": null,
   "metadata": {},
   "outputs": [],
   "source": []
  }
 ],
 "metadata": {
  "kernelspec": {
   "display_name": "Python 3",
   "language": "python",
   "name": "python3"
  },
  "language_info": {
   "codemirror_mode": {
    "name": "ipython",
    "version": 3
   },
   "file_extension": ".py",
   "mimetype": "text/x-python",
   "name": "python",
   "nbconvert_exporter": "python",
   "pygments_lexer": "ipython3",
   "version": "3.8.3"
  }
 },
 "nbformat": 4,
 "nbformat_minor": 4
}
